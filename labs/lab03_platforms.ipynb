{
  "cells": [
    {
      "cell_type": "markdown",
      "metadata": {},
      "source": [
        "---\n",
        "title: \"Lab 3: Platforms & Network Effects\"\n",
        "subtitle: \"Adoption simulation and sensitivity\"\n",
        "format:\n",
        "  html:\n",
        "    toc: false\n",
        "    number-sections: true\n",
        "execute:\n",
        "  echo: true\n",
        "  warning: false\n",
        "  message: false\n",
        "---\n",
        "\n",
        "::: callout-note\n",
        "### Expected Time\n",
        "- FIN510: Seminar hands‑on ≈ 60 min; \n",
        "- Directed learning extensions ≈ 90–120 min\n",
        "- FIN720: Computer lab ≈ 120 min\n",
        ":::\n",
        "\n",
        "[![Open in Colab](https://colab.research.google.com/assets/colab-badge.svg)](https://colab.research.google.com/github/quinfer/fin510-colab-notebooks/blob/main/labs/lab03_platforms.ipynb)\n",
        "\n",
        "## Objectives\n",
        "\n",
        "- Implement the two‑sided adoption simulation\n",
        "- Explore pricing and congestion sensitivities\n",
        "\n",
        "## Simulation Function"
      ]
    },
    {
      "cell_type": "code",
      "metadata": {},
      "source": [
        "import numpy as np\n",
        "import matplotlib.pyplot as plt\n",
        "\n",
        "def simulate_platform(T=60, a_u=0.02, a_m=0.015, beta_um=0.6, beta_mu=0.5,\n",
        "                      price_u=0.0, price_m=0.03, gamma_u=0.0, gamma_m=0.0):\n",
        "    Nu = np.zeros(T+1); Nm = np.zeros(T+1)\n",
        "    Nu[0]=0.02; Nm[0]=0.02\n",
        "    for t in range(T):\n",
        "        du = a_u*(1-Nu[t])*max(0.0, (1 + beta_um*Nm[t] - price_u)) - gamma_u*Nu[t]**2\n",
        "        dm = a_m*(1-Nm[t])*max(0.0, (1 + beta_mu*Nu[t] - price_m)) - gamma_m*Nm[t]**2\n",
        "        Nu[t+1] = np.clip(Nu[t]+du, 0, 1)\n",
        "        Nm[t+1] = np.clip(Nm[t]+dm, 0, 1)\n",
        "    return Nu, Nm"
      ],
      "execution_count": null,
      "outputs": []
    },
    {
      "cell_type": "markdown",
      "metadata": {},
      "source": [
        "## Task 1 — Scenario Comparison"
      ]
    },
    {
      "cell_type": "code",
      "metadata": {},
      "source": [
        "scenarios = {\n",
        "    'Merchant‑pays': dict(price_u=0.0, price_m=0.03),\n",
        "    'User‑pays':     dict(price_u=0.03, price_m=0.0),\n",
        "    'Both free':     dict(price_u=0.0, price_m=0.0),\n",
        "    'Congestion':    dict(price_u=0.0, price_m=0.03, gamma_u=0.15, gamma_m=0.10),\n",
        "}\n",
        "\n",
        "plt.figure(figsize=(10,6))\n",
        "for label, params in scenarios.items():\n",
        "    Nu, Nm = simulate_platform(**params)\n",
        "    plt.plot(Nu, label=f'U — {label}')\n",
        "    plt.plot(Nm, linestyle='--', label=f'M — {label}')\n",
        "plt.title('Two‑Sided Adoption Scenarios'); plt.xlabel('Time'); plt.ylabel('Participation (0..1)')\n",
        "plt.grid(alpha=0.3); plt.legend(ncol=2, fontsize=8); plt.tight_layout()\n",
        "Nu, Nm = simulate_platform()\n",
        "assert Nu.min() >= 0 and Nu.max() <= 1 and Nm.min() >= 0 and Nm.max() <= 1\n",
        "print(\"Scenario simulation checks passed ✔\")"
      ],
      "execution_count": null,
      "outputs": []
    },
    {
      "cell_type": "markdown",
      "metadata": {},
      "source": [
        "## Task 2 — Price Sensitivity Heatmap"
      ]
    },
    {
      "cell_type": "code",
      "metadata": {},
      "source": [
        "grid = np.linspace(0.0, 0.06, 13)\n",
        "Z = np.zeros((len(grid), len(grid)))\n",
        "for i, pu in enumerate(grid):\n",
        "    for j, pm in enumerate(grid):\n",
        "        Nu, Nm = simulate_platform(price_u=pu, price_m=pm)\n",
        "        Z[i,j] = Nu[-1]\n",
        "\n",
        "plt.figure(figsize=(7,5))\n",
        "im = plt.imshow(Z, origin='lower', extent=[grid.min(), grid.max(), grid.min(), grid.max()],\n",
        "                aspect='auto', cmap='viridis')\n",
        "plt.colorbar(im, label='Final user participation')\n",
        "plt.xlabel('price_m'); plt.ylabel('price_u'); plt.title('User Participation vs Prices')\n",
        "plt.tight_layout()\n",
        "assert Z.min() >= 0 and Z.max() <= 1\n",
        "print(\"Heatmap bounds checks passed ✔\")"
      ],
      "execution_count": null,
      "outputs": []
    },
    {
      "cell_type": "markdown",
      "metadata": {},
      "source": [
        "Deliverable: 200–300 words on subsidy logic and congestion governance for one scenario.\n",
        "\n",
        "::: callout-tip\n",
        "### Troubleshooting\n",
        "- Flat lines: check parameters and ensure time horizon `T` is long enough.\n",
        "- Values >1 or <0: verify clipping and parameter signs.\n",
        ":::\n",
        "\n",
        "::: callout-note\n",
        "### Further Reading (Hilpisch 2019)\n",
        "- See: [Hilpisch Code Resources](../resources/hilpisch-code.qmd) — Week 0/2\n",
        "- While the platform simulation is domain‑specific, Chapter 13 diagnostics (learning curves, residuals) provide squared‑loss tools you can apply when regressing simulated outcomes on parameters.\n",
        ":::"
      ]
    }
  ],
  "metadata": {
    "kernelspec": {
      "name": "nlp_env",
      "language": "python",
      "display_name": "Python (nlp_env)",
      "path": "/Users/quinference/Library/Jupyter/kernels/nlp_env"
    }
  },
  "nbformat": 4,
  "nbformat_minor": 4
}