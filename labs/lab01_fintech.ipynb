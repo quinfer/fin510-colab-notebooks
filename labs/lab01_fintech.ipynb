{
  "cells": [
    {
      "cell_type": "markdown",
      "metadata": {},
      "source": [
        "---\n",
        "title: \"Lab 1: FinTech Evolution & Python\"\n",
        "subtitle: \"Fee compression and banking spreads\"\n",
        "format:\n",
        "  html:\n",
        "    toc: false\n",
        "    number-sections: true\n",
        "execute:\n",
        "  echo: true\n",
        "  warning: false\n",
        "  message: false\n",
        "---\n",
        "\n",
        "::: callout-note\n",
        "### Expected Time\n",
        "- FIN510: Seminar hands‑on ≈ 60 min; \n",
        "- Directed learning extensions ≈ 90–120 min\n",
        "- FIN720: Computer lab ≈ 120 min\n",
        ":::\n",
        "\n",
        "[![Open in Colab](https://colab.research.google.com/assets/colab-badge.svg)](https://colab.research.google.com/github/quinfer/fin510-colab-notebooks/blob/main/labs/lab01_fintech.ipynb)\n",
        "\n",
        "## Setup (Colab‑only installs)"
      ]
    },
    {
      "cell_type": "code",
      "metadata": {},
      "source": [
        "try:\n",
        "    import matplotlib\n",
        "except Exception:\n",
        "    !pip -q install matplotlib"
      ],
      "execution_count": null,
      "outputs": []
    },
    {
      "cell_type": "markdown",
      "metadata": {},
      "source": [
        "## Objectives\n",
        "\n",
        "- Recreate fee compression and NIM visuals\n",
        "- Interpret persistence vs compression in finance\n",
        "\n",
        "## Session Flow (≈ 60 minutes)\n",
        "\n",
        ":::: callout-note\n",
        "### Suggested Timing\n",
        "\n",
        "- Warm‑up patterns and asserts (10 minutes)\n",
        "- Task 1: Fund fee trends (15 minutes)\n",
        "- Task 2: Banking NIM persistence (15 minutes)\n",
        "- Quality gate for figures + reproducibility note (10 minutes)\n",
        "- Reflection and short write‑up (10 minutes)\n",
        "::::\n",
        "\n",
        "This plan keeps you moving between coding, light quality checks, and interpretation. You can extend any part in directed learning.\n",
        "\n",
        "## Before You Code: The Big Picture\n",
        "\n",
        "Financial data science involves three repeating activities. Understanding this pattern helps you navigate any coding task with confidence.\n",
        "\n",
        "::: {.callout-note}\n",
        "## The Three-Step Pattern You'll Use Everywhere\n",
        "\n",
        "**1. Prepare** → Get your data ready (clean, format, check)  \n",
        "**2. Visualize or Analyze** → Create charts or run models  \n",
        "**3. Validate** → Check results make sense before trusting them\n",
        "\n",
        "You'll use this pattern in every task today. Once you master it here, you can apply it to any financial analysis.\n",
        ":::\n",
        "\n",
        "### What You'll Build Today\n",
        "\n",
        "By the end of this lab, you will have:\n",
        "\n",
        "- ✅ Two professional-quality charts (fund fees, bank margins)\n",
        "- ✅ Working knowledge of Python plotting basics\n",
        "- ✅ Quality checks that catch common data errors\n",
        "- ✅ A written interpretation connecting charts to economic theory\n",
        "\n",
        "**Time estimate:** 60 minutes (FIN510) | 90-120 minutes (FIN720 with extensions)\n",
        "\n",
        "### Coding Confidence Builder\n",
        "\n",
        "::: {.callout-tip icon=false}\n",
        "## 🎯 If You're New to Programming\n",
        "\n",
        "**You don't need to understand every line right away.** Today's goal is pattern recognition:\n",
        "\n",
        "- See the structure (prepare → visualize → validate)\n",
        "- Run the code and observe what happens\n",
        "- Modify small things (colors, labels, titles) to build intuition\n",
        "- Understanding will deepen with practice\n",
        "\n",
        "Professional programmers also look up syntax constantly. The skill is knowing *what* you need, not memorizing *how* to type it.\n",
        ":::\n",
        "\n",
        "## Mini Exercise — Returns vs Prices (5–10 minutes)\n",
        "\n",
        "Before we create charts, let's understand why financial analysis uses **returns** instead of **prices**. This quick exercise builds intuition."
      ]
    },
    {
      "cell_type": "code",
      "metadata": {},
      "source": [
        "import pandas as pd, numpy as np\n",
        "\n",
        "# Try real data; fall back to synthetic if unavailable\n",
        "try:\n",
        "    import yfinance as yf\n",
        "    px = yf.download([\"AAPL\"], start=\"2022-01-01\", end=\"2023-01-01\", progress=False)[\"Close\"][\"AAPL\"].dropna()\n",
        "except Exception:\n",
        "    px = pd.Series(dtype=float)\n",
        "\n",
        "if px.shape[0] == 0:\n",
        "    # Fallback synthetic random walk (business days)\n",
        "    idx = pd.date_range(\"2022-01-01\", \"2023-01-01\", freq=\"B\")\n",
        "    np.random.seed(42)\n",
        "    r = np.random.normal(0.0005, 0.02, size=len(idx))\n",
        "    px = pd.Series(150.0 * np.exp(np.cumsum(r)), index=idx, name=\"AAPL\")\n",
        "\n",
        "# Daily prices, then aggregate to monthly and compute returns\n",
        "rx_d = px.pct_change().dropna()\n",
        "px_m = px.resample('M').last()\n",
        "rx_m = px_m.pct_change().dropna()\n",
        "\n",
        "px.tail(), rx_d.tail(), rx_m.tail()"
      ],
      "execution_count": null,
      "outputs": []
    },
    {
      "cell_type": "markdown",
      "metadata": {},
      "source": [
        "Notes\n",
        "- Price levels are typically non‑stationary; returns are closer to stationary and comparable across assets.\n",
        "- In projects, regressions and forecasts target returns (or excess returns), not price levels.\n",
        "\n",
        "### Quick patterns and asserts\n",
        "\n",
        "Introduce defensive checks early so issues are visible and actionable."
      ]
    },
    {
      "cell_type": "code",
      "metadata": {},
      "source": [
        "import numpy as np\n",
        "\n",
        "# Guard against empty downloads\n",
        "assert px.shape[0] > 0, \"No price data returned — check ticker or network\"\n",
        "\n",
        "# Confirm monotone date index\n",
        "assert px.index.is_monotonic_increasing, \"Timestamps not monotone — resample/sort before analysis\"\n",
        "\n",
        "# Sanity checks on returns\n",
        "assert rx_d.abs().lt(1.0).all(), \"Extreme daily return detected (>100%) — inspect corporate actions/adjustments\""
      ],
      "execution_count": null,
      "outputs": []
    },
    {
      "cell_type": "markdown",
      "metadata": {},
      "source": [
        "## Task 1 — Fund Fee Trends\n",
        "\n",
        "This task recreates the fee compression chart you saw in lecture. We'll build it in three steps: prepare data, create the plot, then validate it.\n",
        "\n",
        "### Step 1a: Prepare the data\n",
        "\n",
        "Start with the historical fee data as simple Python lists. These numbers represent asset-weighted average expense ratios from ICI reports."
      ]
    },
    {
      "cell_type": "code",
      "metadata": {},
      "source": [
        "# Years we have data for\n",
        "years = [2000, 2005, 2010, 2015, 2020, 2024]\n",
        "\n",
        "# Fee data (% of assets under management)\n",
        "equity_mf = [1.00, 0.85, 0.79, 0.68, 0.50, 0.40]  # Equity mutual funds\n",
        "bond_mf   = [0.85, 0.75, 0.70, 0.58, 0.45, 0.38]  # Bond mutual funds\n",
        "index_etf = [0.30, 0.25, 0.20, 0.18, 0.15, 0.14]  # Index ETFs\n",
        "\n",
        "# Quick look: what's the fee decline for equity funds?\n",
        "print(f\"Equity MF fees fell from {equity_mf[0]:.2f}% to {equity_mf[-1]:.2f}%\")\n",
        "print(f\"That's a {(1 - equity_mf[-1]/equity_mf[0])*100:.0f}% reduction over 24 years\")"
      ],
      "execution_count": null,
      "outputs": []
    },
    {
      "cell_type": "markdown",
      "metadata": {},
      "source": [
        "::: {.callout-tip}\n",
        "## Understanding the Data\n",
        "Each list represents one financial product. The numbers decline over time—that's the \"compression\" story. Notice ETFs started lower and fell less (already efficient).\n",
        ":::\n",
        "\n",
        "### Step 1b: Create the plot\n",
        "\n",
        "Now we'll visualize these three series. Think of this as: (1) create canvas, (2) add lines, (3) label everything."
      ]
    },
    {
      "cell_type": "code",
      "metadata": {},
      "source": [
        "import matplotlib.pyplot as plt\n",
        "\n",
        "# === STEP 1: Create the canvas ===\n",
        "plt.figure(figsize=(9,5))  # Size in inches (width, height)\n",
        "\n",
        "# === STEP 2: Plot each series as a line with markers ===\n",
        "plt.plot(years, equity_mf, marker='o', label='Equity MF')\n",
        "plt.plot(years, bond_mf,   marker='o', label='Bond MF')\n",
        "plt.plot(years, index_etf, marker='o', label='Index ETF')\n",
        "\n",
        "# === STEP 3: Add labels so readers understand the figure ===\n",
        "plt.title('Decline in Fund Fees (Illustrative)')\n",
        "plt.xlabel('Year')\n",
        "plt.ylabel('Average Expense Ratio (%)')\n",
        "plt.grid(alpha=0.3)  # Subtle grid helps read values\n",
        "plt.legend()         # Shows which line is which\n",
        "plt.tight_layout()   # Prevents labels from being cut off\n",
        "plt.show()"
      ],
      "execution_count": null,
      "outputs": []
    },
    {
      "cell_type": "markdown",
      "metadata": {},
      "source": [
        "::: {.callout-tip}\n",
        "## Reading the Code\n",
        "- `plt.plot(x, y, ...)` draws a line from your data\n",
        "- `marker='o'` puts a dot at each data point\n",
        "- `label='...'` names the line for the legend\n",
        "- Each `plt` command adds one more piece to the figure\n",
        ":::\n",
        "\n",
        "### Step 1c: Validate your work\n",
        "\n",
        "Before moving on, run quick checks to catch mistakes early."
      ]
    },
    {
      "cell_type": "code",
      "metadata": {},
      "source": [
        "# === Quality checks ===\n",
        "# Do all lists have the same length? (they should!)\n",
        "assert len(years) == len(equity_mf) == len(bond_mf) == len(index_etf), \\\n",
        "    \"Data length mismatch - check your lists\"\n",
        "\n",
        "# Are fees actually declining for equity MFs? (theory says yes)\n",
        "assert equity_mf[0] > equity_mf[-1], \\\n",
        "    \"Equity fees should decline from 2000 to 2024\"\n",
        "\n",
        "print(\"✔ All checks passed! Your figure is ready.\")"
      ],
      "execution_count": null,
      "outputs": []
    },
    {
      "cell_type": "markdown",
      "metadata": {},
      "source": [
        "::: {.callout-note}\n",
        "## Why These Checks Matter\n",
        "In professional work, data errors are common (typos, missing values, wrong units). These `assert` statements catch problems **before** you present results. Get in the habit now.\n",
        ":::\n",
        "\n",
        "**Pedagogical note:** This three-step pattern (prepare → visualize → validate) works for nearly every data visualization task. Master it here, reuse it everywhere.\n",
        "\n",
        "## Task 2 — Banking NIM Persistence\n",
        "\n",
        "Now you'll recreate the banking spreads chart. Notice how this pattern mirrors Task 1—that's intentional! Professional workflows reuse reliable patterns.\n",
        "\n",
        "### Step 2a: Prepare NIM data"
      ]
    },
    {
      "cell_type": "code",
      "metadata": {},
      "source": [
        "# Same years as before\n",
        "years = [2000, 2005, 2010, 2015, 2020, 2024]\n",
        "\n",
        "# Bank net interest margins (%)\n",
        "nim = [3.9, 3.5, 3.6, 2.9, 2.6, 3.0]\n",
        "\n",
        "# Quick comparison: how stable are NIMs vs fund fees?\n",
        "print(f\"NIM in 2000: {nim[0]:.1f}%\")\n",
        "print(f\"NIM in 2024: {nim[-1]:.1f}%\")\n",
        "print(f\"Change: {nim[-1] - nim[0]:.1f} percentage points (compare to equity MF: {equity_mf[-1] - equity_mf[0]:.1f})\")"
      ],
      "execution_count": null,
      "outputs": []
    },
    {
      "cell_type": "markdown",
      "metadata": {},
      "source": [
        "::: {.callout-important}\n",
        "## The Key Contrast\n",
        "Fund fees **compressed** (fell 0.6 pp). Bank NIMs **persisted** (fell only 0.9 pp, and oscillated). This is the puzzle!\n",
        ":::\n",
        "\n",
        "### Step 2b: Create the plot"
      ]
    },
    {
      "cell_type": "code",
      "metadata": {},
      "source": [
        "# === Create canvas and plot ===\n",
        "plt.figure(figsize=(8,4.5))\n",
        "plt.plot(years, nim, marker='o', color='tab:red', label='Bank NIM')\n",
        "\n",
        "# === Label everything ===\n",
        "plt.title('Bank Net Interest Margin (Illustrative)')\n",
        "plt.xlabel('Year')\n",
        "plt.ylabel('NIM (%)')\n",
        "plt.grid(alpha=0.3)\n",
        "plt.legend()\n",
        "plt.tight_layout()\n",
        "plt.show()"
      ],
      "execution_count": null,
      "outputs": []
    },
    {
      "cell_type": "markdown",
      "metadata": {},
      "source": [
        "### Step 2c: Validate"
      ]
    },
    {
      "cell_type": "code",
      "metadata": {},
      "source": [
        "# Check data consistency\n",
        "assert len(years) == len(nim), \"Data length mismatch\"\n",
        "\n",
        "# Unlike fees, NIMs don't monotonically decline (they oscillate with policy rates)\n",
        "# So we just check they're in a reasonable range\n",
        "assert all(0 < n < 10 for n in nim), \"NIMs should be between 0-10%\"\n",
        "\n",
        "print(\"✔ NIM chart checks passed\")"
      ],
      "execution_count": null,
      "outputs": []
    },
    {
      "cell_type": "markdown",
      "metadata": {},
      "source": [
        "::: {.callout-tip}\n",
        "## Try This Yourself\n",
        "Before running the code, **predict** what the chart will show. Will it look like the fund fee chart (steady decline) or different? Then compare your prediction to the result. This active prediction strengthens learning.\n",
        ":::\n",
        "\n",
        "## Quality Gate for Figures (10 minutes)\n",
        "\n",
        "Before interpretation, run a tiny “figure quality gate” on your inputs and outputs."
      ]
    },
    {
      "cell_type": "code",
      "metadata": {},
      "source": [
        "import pandas as pd\n",
        "\n",
        "# Wrap your plotting inputs into DataFrames for simple checks\n",
        "fees_df = pd.DataFrame({\n",
        "    'year': years,\n",
        "    'equity_mf': equity_mf,\n",
        "    'bond_mf': bond_mf,\n",
        "    'index_etf': index_etf\n",
        "})\n",
        "\n",
        "nim_df = pd.DataFrame({\n",
        "    'year': years,\n",
        "    'nim': nim\n",
        "})\n",
        "\n",
        "checks = {\n",
        "    'fees_monotone_decline_equity': pd.Series(equity_mf).is_monotonic_decreasing,\n",
        "    'fees_monotone_decline_bond': pd.Series(bond_mf).is_monotonic_decreasing,\n",
        "    'nim_reasonable_range': (pd.Series(nim).between(0.0, 10.0).all()),\n",
        "    'year_sorted': pd.Series(years).is_monotonic_increasing\n",
        "}\n",
        "\n",
        "checks"
      ],
      "execution_count": null,
      "outputs": []
    },
    {
      "cell_type": "markdown",
      "metadata": {},
      "source": [
        "Briefly explain any violations (e.g., non‑monotonic segments in bond fees) rather than forcing the data to fit an assumption.\n",
        "\n",
        "## Task 3 — Adjusted vs Unadjusted Prices (10–15 minutes)\n",
        "\n",
        "Corporate actions change the interpretation of price series. Compare adjusted and unadjusted series and discuss implications for analysis."
      ]
    },
    {
      "cell_type": "code",
      "metadata": {},
      "source": [
        "import yfinance as yf, pandas as pd, matplotlib.pyplot as plt\n",
        "\n",
        "try:\n",
        "    raw = yf.download([\"AAPL\"], start=\"2022-01-01\", end=\"2023-01-01\", progress=False)\n",
        "    close = raw[\"Close\"][\"AAPL\"].dropna()\n",
        "    adj   = raw[\"Adj Close\"][\"AAPL\"].dropna()\n",
        "except Exception:\n",
        "    # Fallback synthetic series with a one‑off adjustment event\n",
        "    idx = pd.date_range('2022-01-01','2023-01-01', freq='B')\n",
        "    close = pd.Series(100.0, index=idx).add(pd.Series(range(len(idx)), index=idx)).astype(float)\n",
        "    adj = close.copy()\n",
        "    adj.iloc[len(adj)//2:] = adj.iloc[len(adj)//2:] * 0.5  # simulate split\n",
        "\n",
        "ret_close = close.pct_change().dropna()\n",
        "ret_adj   = adj.pct_change().dropna()\n",
        "\n",
        "plt.figure(figsize=(9,5))\n",
        "plt.plot(close.index, close, label='Close (unadjusted)')\n",
        "plt.plot(adj.index, adj, label='Adj Close')\n",
        "plt.title('Adjusted vs Unadjusted Prices')\n",
        "plt.legend(); plt.grid(alpha=0.3); plt.tight_layout(); plt.show()\n",
        "\n",
        "print(f\"Mean daily return (Close): {ret_close.mean()*100:.3f}%\")\n",
        "print(f\"Mean daily return (Adj):   {ret_adj.mean()*100:.3f}%\")"
      ],
      "execution_count": null,
      "outputs": []
    },
    {
      "cell_type": "markdown",
      "metadata": {},
      "source": [
        "Notes\n",
        "\n",
        "- Adjusted series backfills splits/dividends, making return calculations coherent.\n",
        "- For cross‑section and long horizons, prefer adjusted prices; document the choice.\n",
        "\n",
        "## Reproducibility Snapshot (2 minutes)\n",
        "\n",
        "Record minimal environment and metadata with your submission."
      ]
    },
    {
      "cell_type": "code",
      "metadata": {},
      "source": [
        "import sys, platform, json\n",
        "meta = {\n",
        "    'python': sys.version.split()[0],\n",
        "    'platform': platform.platform(),\n",
        "    'data_sources': ['Illustrative lists', 'yfinance (optional)'],\n",
        "}\n",
        "json.dumps(meta, indent=2)"
      ],
      "execution_count": null,
      "outputs": []
    },
    {
      "cell_type": "markdown",
      "metadata": {},
      "source": [
        "## Reflection Prompts (10 minutes)\n",
        "\n",
        "Write 150–250 words addressing:\n",
        "\n",
        "- Why did fees compress while NIMs persisted? Tie to functions of finance and market structure.\n",
        "- What risks arise from using unadjusted prices in analysis? Give one concrete example.\n",
        "- One specific check you would add to a production data pipeline and why.\n",
        "\n",
        ":::: callout-note\n",
        "### Brief Rubric (FIN510)\n",
        "\n",
        "- Evidence use: references figures and economic mechanisms\n",
        "- Clarity: concise, logically structured, avoids jargon where unnecessary\n",
        "- Method awareness: acknowledges data/measurement limitations\n",
        "::::\n",
        "\n",
        "## Stretch (FIN720 or extensions)\n",
        "\n",
        "Optional deeper tasks:\n",
        "\n",
        "- Replicate the NIM series from a public source (e.g., FRED) and compare levels/trends.\n",
        "- Extend fee analysis to include advisory fees vs fund fees; discuss scope differences.\n",
        "- Draft a short memo (200–300 words) critiquing a fintech claim using your figures.\n",
        "\n",
        "## Submission Checklist\n",
        "\n",
        "- Two figures (fees, NIM) rendered and saved\n",
        "- Quality gate output shown and discussed\n",
        "- Reflection (150–250 words) attached\n",
        "- Reproducibility snapshot included\n",
        "\n",
        "::: callout-tip\n",
        "### Troubleshooting\n",
        "- If lines don’t show, ensure values are numeric floats (not strings).\n",
        "- If legends overlap: reduce figure size or call `plt.tight_layout()`.\n",
        ":::\n",
        "\n",
        "## Save Outputs (optional)"
      ]
    },
    {
      "cell_type": "code",
      "metadata": {},
      "source": [
        "import matplotlib.pyplot as plt\n",
        "plt.savefig('lab01_last_figure.png', dpi=150)\n",
        "\"Saved: lab01_last_figure.png\""
      ],
      "execution_count": null,
      "outputs": []
    },
    {
      "cell_type": "markdown",
      "metadata": {},
      "source": [
        "::: callout-note\n",
        "### Further Reading (Hilpisch 2019)\n",
        "- See: [Hilpisch Code Resources](../resources/hilpisch-code.qmd) — Week 1\n",
        "- Chapter 03 (data structures & plotting) provides additional plotting patterns you can adapt for fee/NIM visuals.\n",
        ":::"
      ]
    }
  ],
  "metadata": {
    "kernelspec": {
      "name": "nlp_env",
      "language": "python",
      "display_name": "Python (nlp_env)",
      "path": "/Users/quinference/Library/Jupyter/kernels/nlp_env"
    }
  },
  "nbformat": 4,
  "nbformat_minor": 4
}