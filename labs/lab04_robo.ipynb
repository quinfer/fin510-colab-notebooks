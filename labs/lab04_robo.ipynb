{
  "cells": [
    {
      "cell_type": "markdown",
      "metadata": {},
      "source": [
        "---\n",
        "title: \"Lab 4: Robo‑Advisers & Investment Economics\"\n",
        "subtitle: \"Cost structures, effective fees, access\"\n",
        "format:\n",
        "  html:\n",
        "    toc: false\n",
        "    number-sections: true\n",
        "execute:\n",
        "  echo: true\n",
        "  warning: false\n",
        "  message: false\n",
        "---\n",
        "\n",
        "::: callout-note\n",
        "### Expected Time\n",
        "- FIN510: Seminar hands‑on ≈ 60 min; \n",
        "- Directed learning extensions ≈ 90–120 min\n",
        "- FIN720: Computer lab ≈ 120 min\n",
        ":::\n",
        "\n",
        "[![Open in Colab](https://colab.research.google.com/assets/colab-badge.svg)](https://colab.research.google.com/github/quinfer/financial-data-science/blob/main/labs/notebooks/lab04_robo.ipynb)\n",
        "\n",
        "## Setup (Colab‑only installs)"
      ]
    },
    {
      "cell_type": "code",
      "metadata": {},
      "source": [
        "try:\n",
        "    import numpy, matplotlib\n",
        "except Exception:\n",
        "    !pip -q install numpy matplotlib"
      ],
      "execution_count": null,
      "outputs": []
    },
    {
      "cell_type": "markdown",
      "metadata": {},
      "source": [
        "## Objectives\n",
        "\n",
        "- Compare traditional vs robo fee structures\n",
        "- Compute effective fee rates and break‑even\n",
        "\n",
        "## Task 1 — Annual Fees and Effective Rates"
      ]
    },
    {
      "cell_type": "code",
      "metadata": {},
      "source": [
        "import numpy as np\n",
        "import matplotlib.pyplot as plt\n",
        "\n",
        "sizes = np.array([10_000, 25_000, 50_000, 100_000, 250_000, 500_000, 1_000_000])\n",
        "trad_rate, trad_min = 0.015, 2500\n",
        "robo_rate = 0.0025\n",
        "\n",
        "trad_fee = np.maximum(trad_rate*sizes, trad_min)\n",
        "robo_fee = robo_rate*sizes\n",
        "\n",
        "fig, ax = plt.subplots(1,2, figsize=(11,4))\n",
        "ax[0].plot(sizes/1000, trad_fee, 'o-', label='Traditional ($/yr)')\n",
        "ax[0].plot(sizes/1000, robo_fee, 's-', label='Robo ($/yr)')\n",
        "ax[0].set_xlabel('Account size ($k)'); ax[0].set_ylabel('Annual fee ($)'); ax[0].grid(alpha=0.3); ax[0].legend()\n",
        "\n",
        "trad_eff = trad_fee/sizes*100\n",
        "robo_eff = robo_fee/sizes*100\n",
        "ax[1].plot(sizes/1000, trad_eff, 'o-', label='Traditional %')\n",
        "ax[1].plot(sizes/1000, robo_eff, 's-', label='Robo %')\n",
        "ax[1].set_xlabel('Account size ($k)'); ax[1].set_ylabel('Effective fee (%)'); ax[1].grid(alpha=0.3); ax[1].legend()\n",
        "plt.suptitle('Fee Levels and Effective Rates'); plt.tight_layout()\n",
        "assert trad_fee[0] == trad_min and robo_fee[0] == robo_rate*sizes[0]\n",
        "print(\"Fee calculations sanity checks passed ✔\")"
      ],
      "execution_count": null,
      "outputs": []
    },
    {
      "cell_type": "markdown",
      "metadata": {},
      "source": [
        "## Task 2 — Break‑Even Account Size"
      ]
    },
    {
      "cell_type": "code",
      "metadata": {},
      "source": [
        "break_even = trad_min/trad_rate\n",
        "break_even\n",
        "assert break_even > 0\n",
        "print(f\"Break‑even size = ${break_even:,.0f}\")"
      ],
      "execution_count": null,
      "outputs": []
    },
    {
      "cell_type": "markdown",
      "metadata": {},
      "source": [
        "Deliverable: 150–250 words on inclusion implications and any governance risk to consider in robo advice.\n",
        "\n",
        "::: callout-tip\n",
        "### Troubleshooting\n",
        "- If lines overlap oddly, sort sizes ascending and ensure they’re numeric.\n",
        "- If effective rate rises with size for robo: re‑check formula (fee/size).\n",
        ":::\n",
        "\n",
        "::: callout-note\n",
        "### Further Reading (Hilpisch 2019)\n",
        "- See: [Hilpisch Code Resources](../resources/hilpisch-code.qmd) — Week 4 context\n",
        "- Chapter 13 statistics notebooks include return/risk summaries you can adapt when extending this lab to portfolio analytics.\n",
        ":::"
      ]
    }
  ],
  "metadata": {
    "kernelspec": {
      "name": "nlp_env",
      "language": "python",
      "display_name": "Python (nlp_env)",
      "path": "/Users/quinference/Library/Jupyter/kernels/nlp_env"
    }
  },
  "nbformat": 4,
  "nbformat_minor": 4
}